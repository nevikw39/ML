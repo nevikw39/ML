{
 "cells": [
  {
   "cell_type": "code",
   "execution_count": null,
   "id": "73846386",
   "metadata": {
    "collapsed": true
   },
   "outputs": [],
   "source": [
    "import numpy as np\n",
    "import matplotlib.pyplot as plt\n",
    "from sklearn.metrics import f1_score\n",
    "import math\n",
    "\n",
    "from Loss import *\n",
    "from Model import *\n",
    "from Utils import random_mini_batches"
   ]
  },
  {
   "cell_type": "code",
   "execution_count": null,
   "id": "7cff696d",
   "metadata": {},
   "outputs": [],
   "source": [
    "def trainer(model, config, x_train_pca, y_train):\n",
    "    losses = []\n",
    "    # Loop (gradient descent)\n",
    "    for i in range(0, config.num_iterations):\n",
    "        mini_batches = random_mini_batches(x_train_pca, y_train, config.batch_size)\n",
    "        loss = 0\n",
    "        for batch in mini_batches:\n",
    "            x_batch, y_batch = batch\n",
    "\n",
    "            # forward\n",
    "            AL = None\n",
    "\n",
    "            # compute loss\n",
    "            if config.loss_function == 'cross_entropy':\n",
    "                loss += None\n",
    "            elif config.loss_function == 'focal_loss':\n",
    "                loss += None\n",
    "\n",
    "            # backward\n",
    "            dA_prev = None\n",
    "            # update\n",
    "            None\n",
    "\n",
    "        loss /= len(mini_batches)\n",
    "        losses.append(loss)\n",
    "        if config.print_loss and i % config.print_freq == 0:\n",
    "            print (\"Loss after iteration %i: %f\" %(i, loss))\n",
    "\n",
    "\n",
    "    # plot the loss\n",
    "    plt.figure(figsize=(4, 2))\n",
    "    plt.plot(np.squeeze(losses))\n",
    "    plt.ylabel('loss')\n",
    "    plt.xlabel('iterations (per hundreds)')\n",
    "    plt.title(\"Learning rate =\" + str(config.learning_rate))\n",
    "    plt.show()\n",
    "    ### END CODE HERE ###"
   ]
  }
 ],
 "metadata": {
  "kernelspec": {
   "display_name": "Python 3 (ipykernel)",
   "language": "python",
   "name": "python3"
  },
  "language_info": {
   "codemirror_mode": {
    "name": "ipython",
    "version": 3
   },
   "file_extension": ".py",
   "mimetype": "text/x-python",
   "name": "python",
   "nbconvert_exporter": "python",
   "pygments_lexer": "ipython3",
   "version": "3.10.12"
  }
 },
 "nbformat": 4,
 "nbformat_minor": 5
}
