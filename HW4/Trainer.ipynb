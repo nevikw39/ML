{
 "cells": [
  {
   "cell_type": "code",
   "execution_count": null,
   "id": "73846386",
   "metadata": {
    "collapsed": true
   },
   "outputs": [],
   "source": [
    "import numpy as np\n",
    "import matplotlib.pyplot as plt\n",
    "from sklearn.metrics import f1_score\n",
    "import math\n",
    "\n",
    "from Loss import *\n",
    "from Model import *\n",
    "from Utils import random_mini_batches, predict"
   ]
  },
  {
   "cell_type": "code",
   "execution_count": null,
   "id": "7cff696d",
   "metadata": {},
   "outputs": [],
   "source": [
    "def trainer(model, config, x_train_pca, y_train, x_val_pca, y_val):\n",
    "    losses = []\n",
    "    for i in range(config.num_iterations):\n",
    "        for x_batch, y_batch in random_mini_batches(x_train_pca, y_train):\n",
    "            AL = model.forward(x_batch)\n",
    "            dA_prev = model.backward(AL, y_batch)\n",
    "            model.update(config.learning_rate)\n",
    "        if config.loss_function == \"cross_entropy\":\n",
    "            loss = compute_CCE_loss(model.forward(x_val_pca), y_val)\n",
    "        else:\n",
    "            loss = compute_focal_loss(model.forward(x_val_pca), y_val, config.alpha, config.gamma)\n",
    "        losses.append(loss)\n",
    "        if not i % config.print_freq:\n",
    "            print(\"Loss after iteration\", i, ':', loss)\n",
    "            predict(x_val_pca, y_val, model)\n",
    "            print()\n",
    "\n",
    "    # plot the loss\n",
    "    plt.figure(figsize=(4, 2))\n",
    "    plt.plot(np.squeeze(losses))\n",
    "    plt.ylabel('loss')\n",
    "    plt.xlabel('iterations (per hundreds)')\n",
    "    plt.title(\"Learning rate =\" + str(config.learning_rate))\n",
    "    plt.show()\n",
    "    ### END CODE HERE ###"
   ]
  }
 ],
 "metadata": {
  "kernelspec": {
   "display_name": "Python 3 (ipykernel)",
   "language": "python",
   "name": "python3"
  },
  "language_info": {
   "codemirror_mode": {
    "name": "ipython",
    "version": 3
   },
   "file_extension": ".py",
   "mimetype": "text/x-python",
   "name": "python",
   "nbconvert_exporter": "python",
   "pygments_lexer": "ipython3",
   "version": "3.10.12"
  }
 },
 "nbformat": 4,
 "nbformat_minor": 5
}
