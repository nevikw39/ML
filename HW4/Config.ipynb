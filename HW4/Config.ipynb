{
 "cells": [
  {
   "cell_type": "markdown",
   "id": "f98afe7a",
   "metadata": {},
   "source": [
    "# Config\n",
    ">* Please do not modify this file"
   ]
  },
  {
   "cell_type": "code",
   "execution_count": null,
   "id": "ef8de5e3",
   "metadata": {},
   "outputs": [],
   "source": [
    "import numpy as np"
   ]
  },
  {
   "cell_type": "code",
   "execution_count": null,
   "id": "f453b007",
   "metadata": {},
   "outputs": [],
   "source": [
    "class Config():\n",
    "    def __init__(self, layers_dims, loss_function):\n",
    "        self.layers_dims = layers_dims #  2-layer model\n",
    "        self.activation_fn = [\"relu\", \"softmax\"]\n",
    "        self.learning_rate = 1e-3\n",
    "        self.num_iterations = 100\n",
    "        self.batch_size = 128\n",
    "        self.classes = 10                        # keep track of loss\n",
    "        self.print_loss = True\n",
    "        self.print_freq = 100\n",
    "        self.loss_function = loss_function\n",
    "        self.gamma = 2.\n",
    "        self.alpha = np.array([(i+1)**2 for i in range(self.classes)])"
   ]
  }
 ],
 "metadata": {
  "kernelspec": {
   "display_name": "Python 3 (ipykernel)",
   "language": "python",
   "name": "python3"
  },
  "language_info": {
   "codemirror_mode": {
    "name": "ipython",
    "version": 3
   },
   "file_extension": ".py",
   "mimetype": "text/x-python",
   "name": "python",
   "nbconvert_exporter": "python",
   "pygments_lexer": "ipython3",
   "version": "3.10.12"
  }
 },
 "nbformat": 4,
 "nbformat_minor": 5
}
